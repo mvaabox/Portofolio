{
  "nbformat": 4,
  "nbformat_minor": 0,
  "metadata": {
    "colab": {
      "name": "Linear Inequalities Using Python.ipynb",
      "provenance": [],
      "authorship_tag": "ABX9TyN1P5/OipMSgNKcUg3YN6Gc",
      "include_colab_link": true
    },
    "kernelspec": {
      "name": "python3",
      "display_name": "Python 3"
    },
    "language_info": {
      "name": "python"
    }
  },
  "cells": [
    {
      "cell_type": "markdown",
      "metadata": {
        "id": "view-in-github",
        "colab_type": "text"
      },
      "source": [
        "<a href=\"https://colab.research.google.com/github/mvaabox/Portofolio/blob/main/Linear_Inequalities_Using_Python.ipynb\" target=\"_parent\"><img src=\"https://colab.research.google.com/assets/colab-badge.svg\" alt=\"Open In Colab\"/></a>"
      ]
    },
    {
      "cell_type": "code",
      "execution_count": 19,
      "metadata": {
        "id": "7TfoCoz1cQz9"
      },
      "outputs": [],
      "source": [
        "import numpy as np\n",
        "import matplotlib.pyplot as plt\n",
        "from sympy.solvers import solve\n",
        "from sympy import Symbol"
      ]
    },
    {
      "cell_type": "code",
      "source": [
        "def f1(x):\n",
        "    return 4.0*x-2.0\n",
        "def f2(x):\n",
        "    return 0.5*x+2.0\n",
        "def f3(x):\n",
        "    return -0.3*x+7.0"
      ],
      "metadata": {
        "id": "qitotZw_c7GU"
      },
      "execution_count": 20,
      "outputs": []
    },
    {
      "cell_type": "code",
      "source": [
        "x = Symbol('x')\n",
        "x1, =  solve(f1(x)-f2(x))\n",
        "x2, =  solve(f1(x)-f3(x))\n",
        "x3, =  solve(f2(x)-f3(x))\n",
        "\n",
        "y1 = f1(x1)\n",
        "y2 = f1(x2)\n",
        "y3 = f2(x3)"
      ],
      "metadata": {
        "id": "01W6iHLVdpJO"
      },
      "execution_count": 21,
      "outputs": []
    },
    {
      "cell_type": "code",
      "source": [
        "plt.plot(x1,f1(x1),'go',markersize=10)\n",
        "plt.plot(x2,f1(x2),'go',markersize=10)\n",
        "plt.plot(x3,f2(x3),'go',markersize=10)\n",
        "plt.fill([x1,x2,x3,x1],[y1,y2,y3,y1],'red',alpha=0.5)\n",
        "xr = np.linspace(0.5,7.5,100)\n",
        "y1r = f1(xr)\n",
        "y2r = f2(xr)\n",
        "y3r = f3(xr)\n",
        "\n",
        "plt.plot(xr,y1r,'k--')\n",
        "plt.plot(xr,y2r,'k--')\n",
        "plt.plot(xr,y3r,'k--')\n",
        "plt.xlim(0.5,7)\n",
        "plt.ylim(2,8)\n",
        "plt.show()"
      ],
      "metadata": {
        "colab": {
          "base_uri": "https://localhost:8080/",
          "height": 269
        },
        "id": "QHrr1dRQdtPH",
        "outputId": "76b37f35-1a64-42b1-b8b2-f2ff7e53bf12"
      },
      "execution_count": 22,
      "outputs": [
        {
          "output_type": "display_data",
          "data": {
            "image/png": "[encoded data removed]",
            "text/plain": [
              "<Figure size 432x288 with 1 Axes>"
            ]
          },
          "metadata": {
            "needs_background": "light"
          }
        }
      ]
    }
  ]
}